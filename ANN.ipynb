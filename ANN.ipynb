{
 "cells": [
  {
   "cell_type": "code",
   "execution_count": 1,
   "id": "32417cb2",
   "metadata": {},
   "outputs": [],
   "source": [
    "import random\n",
    "import math\n",
    "import pandas as pd\n",
    "import numpy as np\n",
    "import matplotlib.pyplot as plt"
   ]
  },
  {
   "cell_type": "markdown",
   "id": "e127117c",
   "metadata": {},
   "source": [
    "# Creating dataset"
   ]
  },
  {
   "cell_type": "code",
   "execution_count": 2,
   "id": "7bb2ca8e",
   "metadata": {},
   "outputs": [
    {
     "data": {
      "text/html": [
       "<div>\n",
       "<style scoped>\n",
       "    .dataframe tbody tr th:only-of-type {\n",
       "        vertical-align: middle;\n",
       "    }\n",
       "\n",
       "    .dataframe tbody tr th {\n",
       "        vertical-align: top;\n",
       "    }\n",
       "\n",
       "    .dataframe thead th {\n",
       "        text-align: right;\n",
       "    }\n",
       "</style>\n",
       "<table border=\"1\" class=\"dataframe\">\n",
       "  <thead>\n",
       "    <tr style=\"text-align: right;\">\n",
       "      <th></th>\n",
       "      <th>0</th>\n",
       "    </tr>\n",
       "  </thead>\n",
       "  <tbody>\n",
       "    <tr>\n",
       "      <th>0</th>\n",
       "      <td>5.955971</td>\n",
       "    </tr>\n",
       "    <tr>\n",
       "      <th>1</th>\n",
       "      <td>-0.327038</td>\n",
       "    </tr>\n",
       "    <tr>\n",
       "      <th>2</th>\n",
       "      <td>-4.037751</td>\n",
       "    </tr>\n",
       "    <tr>\n",
       "      <th>3</th>\n",
       "      <td>8.869686</td>\n",
       "    </tr>\n",
       "    <tr>\n",
       "      <th>4</th>\n",
       "      <td>9.350782</td>\n",
       "    </tr>\n",
       "  </tbody>\n",
       "</table>\n",
       "</div>"
      ],
      "text/plain": [
       "          0\n",
       "0  5.955971\n",
       "1 -0.327038\n",
       "2 -4.037751\n",
       "3  8.869686\n",
       "4  9.350782"
      ]
     },
     "execution_count": 2,
     "metadata": {},
     "output_type": "execute_result"
    }
   ],
   "source": [
    "x = [random.uniform(-10, 10) for _ in range(10000)] #It is the x-value for the function which lies in the range (-10,10)\n",
    "df_1=pd.DataFrame(x) # The data generated value is being transferred into dataframe\n",
    "df_1.head() #To get the 5 starting values of dataframe"
   ]
  },
  {
   "cell_type": "code",
   "execution_count": 3,
   "id": "0645cb71",
   "metadata": {},
   "outputs": [
    {
     "data": {
      "text/html": [
       "<div>\n",
       "<style scoped>\n",
       "    .dataframe tbody tr th:only-of-type {\n",
       "        vertical-align: middle;\n",
       "    }\n",
       "\n",
       "    .dataframe tbody tr th {\n",
       "        vertical-align: top;\n",
       "    }\n",
       "\n",
       "    .dataframe thead th {\n",
       "        text-align: right;\n",
       "    }\n",
       "</style>\n",
       "<table border=\"1\" class=\"dataframe\">\n",
       "  <thead>\n",
       "    <tr style=\"text-align: right;\">\n",
       "      <th></th>\n",
       "      <th>0</th>\n",
       "    </tr>\n",
       "  </thead>\n",
       "  <tbody>\n",
       "    <tr>\n",
       "      <th>0</th>\n",
       "      <td>-2.023012</td>\n",
       "    </tr>\n",
       "    <tr>\n",
       "      <th>1</th>\n",
       "      <td>-7.936002</td>\n",
       "    </tr>\n",
       "    <tr>\n",
       "      <th>2</th>\n",
       "      <td>6.441583</td>\n",
       "    </tr>\n",
       "    <tr>\n",
       "      <th>3</th>\n",
       "      <td>5.118073</td>\n",
       "    </tr>\n",
       "    <tr>\n",
       "      <th>4</th>\n",
       "      <td>3.564394</td>\n",
       "    </tr>\n",
       "  </tbody>\n",
       "</table>\n",
       "</div>"
      ],
      "text/plain": [
       "          0\n",
       "0 -2.023012\n",
       "1 -7.936002\n",
       "2  6.441583\n",
       "3  5.118073\n",
       "4  3.564394"
      ]
     },
     "execution_count": 3,
     "metadata": {},
     "output_type": "execute_result"
    }
   ],
   "source": [
    "y=[random.uniform(-10,10) for _ in range(10000)] #It is the y-value for the function which lies in the range (-10,10)\n",
    "df_2=pd.DataFrame(y)  # The data generated value is being transferred into dataframe\n",
    "df_2.head() #To get the 5 starting values of dataframe"
   ]
  },
  {
   "cell_type": "code",
   "execution_count": 4,
   "id": "f587cf64",
   "metadata": {},
   "outputs": [
    {
     "data": {
      "text/html": [
       "<div>\n",
       "<style scoped>\n",
       "    .dataframe tbody tr th:only-of-type {\n",
       "        vertical-align: middle;\n",
       "    }\n",
       "\n",
       "    .dataframe tbody tr th {\n",
       "        vertical-align: top;\n",
       "    }\n",
       "\n",
       "    .dataframe thead th {\n",
       "        text-align: right;\n",
       "    }\n",
       "</style>\n",
       "<table border=\"1\" class=\"dataframe\">\n",
       "  <thead>\n",
       "    <tr style=\"text-align: right;\">\n",
       "      <th></th>\n",
       "      <th>0</th>\n",
       "    </tr>\n",
       "  </thead>\n",
       "  <tbody>\n",
       "    <tr>\n",
       "      <th>0</th>\n",
       "      <td>-0.382610</td>\n",
       "    </tr>\n",
       "    <tr>\n",
       "      <th>1</th>\n",
       "      <td>-0.121332</td>\n",
       "    </tr>\n",
       "    <tr>\n",
       "      <th>2</th>\n",
       "      <td>-3.190174</td>\n",
       "    </tr>\n",
       "    <tr>\n",
       "      <th>3</th>\n",
       "      <td>-1.992415</td>\n",
       "    </tr>\n",
       "    <tr>\n",
       "      <th>4</th>\n",
       "      <td>-0.599611</td>\n",
       "    </tr>\n",
       "  </tbody>\n",
       "</table>\n",
       "</div>"
      ],
      "text/plain": [
       "          0\n",
       "0 -0.382610\n",
       "1 -0.121332\n",
       "2 -3.190174\n",
       "3 -1.992415\n",
       "4 -0.599611"
      ]
     },
     "execution_count": 4,
     "metadata": {},
     "output_type": "execute_result"
    }
   ],
   "source": [
    "f=[]\n",
    "for i in range(10000):\n",
    "    a=-abs(math.sin(x[i])*math.cos(y[i])*math.exp(abs(1-(math.sqrt(math.pow(x[i],2)+math.pow(y[i],2)))/math.pi))) # Function defined\n",
    "    f.append(a) #Collecting all the values in f\n",
    "df_3=pd.DataFrame(f) #Forming the dataframe for the output\n",
    "df_3.head() #To get the 5 starting values of dataframe"
   ]
  },
  {
   "cell_type": "code",
   "execution_count": 5,
   "id": "f099bb23",
   "metadata": {},
   "outputs": [
    {
     "data": {
      "text/html": [
       "<div>\n",
       "<style scoped>\n",
       "    .dataframe tbody tr th:only-of-type {\n",
       "        vertical-align: middle;\n",
       "    }\n",
       "\n",
       "    .dataframe tbody tr th {\n",
       "        vertical-align: top;\n",
       "    }\n",
       "\n",
       "    .dataframe thead th {\n",
       "        text-align: right;\n",
       "    }\n",
       "</style>\n",
       "<table border=\"1\" class=\"dataframe\">\n",
       "  <thead>\n",
       "    <tr style=\"text-align: right;\">\n",
       "      <th></th>\n",
       "      <th>x</th>\n",
       "      <th>y</th>\n",
       "      <th>f</th>\n",
       "    </tr>\n",
       "  </thead>\n",
       "  <tbody>\n",
       "    <tr>\n",
       "      <th>0</th>\n",
       "      <td>5.955971</td>\n",
       "      <td>-2.023012</td>\n",
       "      <td>-0.382610</td>\n",
       "    </tr>\n",
       "    <tr>\n",
       "      <th>1</th>\n",
       "      <td>-0.327038</td>\n",
       "      <td>-7.936002</td>\n",
       "      <td>-0.121332</td>\n",
       "    </tr>\n",
       "    <tr>\n",
       "      <th>2</th>\n",
       "      <td>-4.037751</td>\n",
       "      <td>6.441583</td>\n",
       "      <td>-3.190174</td>\n",
       "    </tr>\n",
       "    <tr>\n",
       "      <th>3</th>\n",
       "      <td>8.869686</td>\n",
       "      <td>5.118073</td>\n",
       "      <td>-1.992415</td>\n",
       "    </tr>\n",
       "    <tr>\n",
       "      <th>4</th>\n",
       "      <td>9.350782</td>\n",
       "      <td>3.564394</td>\n",
       "      <td>-0.599611</td>\n",
       "    </tr>\n",
       "  </tbody>\n",
       "</table>\n",
       "</div>"
      ],
      "text/plain": [
       "          x         y         f\n",
       "0  5.955971 -2.023012 -0.382610\n",
       "1 -0.327038 -7.936002 -0.121332\n",
       "2 -4.037751  6.441583 -3.190174\n",
       "3  8.869686  5.118073 -1.992415\n",
       "4  9.350782  3.564394 -0.599611"
      ]
     },
     "execution_count": 5,
     "metadata": {},
     "output_type": "execute_result"
    }
   ],
   "source": [
    "df=pd.concat([df_1,df_2,df_3],axis=1) #Combining all the dataframes forming one final dataframe having 2 i/ps and 1 o/p\n",
    "df.columns=['x','y','f']\n",
    "df.head() #To get the 5 starting values of dataframe"
   ]
  },
  {
   "cell_type": "code",
   "execution_count": 6,
   "id": "d543bc45",
   "metadata": {},
   "outputs": [
    {
     "data": {
      "text/html": [
       "<div>\n",
       "<style scoped>\n",
       "    .dataframe tbody tr th:only-of-type {\n",
       "        vertical-align: middle;\n",
       "    }\n",
       "\n",
       "    .dataframe tbody tr th {\n",
       "        vertical-align: top;\n",
       "    }\n",
       "\n",
       "    .dataframe thead th {\n",
       "        text-align: right;\n",
       "    }\n",
       "</style>\n",
       "<table border=\"1\" class=\"dataframe\">\n",
       "  <thead>\n",
       "    <tr style=\"text-align: right;\">\n",
       "      <th></th>\n",
       "      <th>x</th>\n",
       "      <th>y</th>\n",
       "      <th>f</th>\n",
       "    </tr>\n",
       "  </thead>\n",
       "  <tbody>\n",
       "    <tr>\n",
       "      <th>9995</th>\n",
       "      <td>-2.418320</td>\n",
       "      <td>9.810984</td>\n",
       "      <td>-5.624700</td>\n",
       "    </tr>\n",
       "    <tr>\n",
       "      <th>9996</th>\n",
       "      <td>4.268007</td>\n",
       "      <td>-8.032746</td>\n",
       "      <td>-1.068467</td>\n",
       "    </tr>\n",
       "    <tr>\n",
       "      <th>9997</th>\n",
       "      <td>-0.727410</td>\n",
       "      <td>-4.433515</td>\n",
       "      <td>-0.281407</td>\n",
       "    </tr>\n",
       "    <tr>\n",
       "      <th>9998</th>\n",
       "      <td>-6.295889</td>\n",
       "      <td>6.815454</td>\n",
       "      <td>-0.077201</td>\n",
       "    </tr>\n",
       "    <tr>\n",
       "      <th>9999</th>\n",
       "      <td>1.962676</td>\n",
       "      <td>-5.253318</td>\n",
       "      <td>-1.043438</td>\n",
       "    </tr>\n",
       "  </tbody>\n",
       "</table>\n",
       "</div>"
      ],
      "text/plain": [
       "             x         y         f\n",
       "9995 -2.418320  9.810984 -5.624700\n",
       "9996  4.268007 -8.032746 -1.068467\n",
       "9997 -0.727410 -4.433515 -0.281407\n",
       "9998 -6.295889  6.815454 -0.077201\n",
       "9999  1.962676 -5.253318 -1.043438"
      ]
     },
     "execution_count": 6,
     "metadata": {},
     "output_type": "execute_result"
    }
   ],
   "source": [
    "df.tail() #To get the 5 last values of dataframe"
   ]
  },
  {
   "cell_type": "code",
   "execution_count": 7,
   "id": "7a703378",
   "metadata": {},
   "outputs": [
    {
     "data": {
      "text/html": [
       "<div>\n",
       "<style scoped>\n",
       "    .dataframe tbody tr th:only-of-type {\n",
       "        vertical-align: middle;\n",
       "    }\n",
       "\n",
       "    .dataframe tbody tr th {\n",
       "        vertical-align: top;\n",
       "    }\n",
       "\n",
       "    .dataframe thead th {\n",
       "        text-align: right;\n",
       "    }\n",
       "</style>\n",
       "<table border=\"1\" class=\"dataframe\">\n",
       "  <thead>\n",
       "    <tr style=\"text-align: right;\">\n",
       "      <th></th>\n",
       "      <th>x</th>\n",
       "      <th>y</th>\n",
       "      <th>f</th>\n",
       "    </tr>\n",
       "  </thead>\n",
       "  <tbody>\n",
       "    <tr>\n",
       "      <th>count</th>\n",
       "      <td>10000.000000</td>\n",
       "      <td>10000.000000</td>\n",
       "      <td>10000.000000</td>\n",
       "    </tr>\n",
       "    <tr>\n",
       "      <th>mean</th>\n",
       "      <td>-0.024817</td>\n",
       "      <td>-0.065471</td>\n",
       "      <td>-2.412683</td>\n",
       "    </tr>\n",
       "    <tr>\n",
       "      <th>std</th>\n",
       "      <td>5.831132</td>\n",
       "      <td>5.747517</td>\n",
       "      <td>2.973883</td>\n",
       "    </tr>\n",
       "    <tr>\n",
       "      <th>min</th>\n",
       "      <td>-9.998966</td>\n",
       "      <td>-9.999405</td>\n",
       "      <td>-19.174606</td>\n",
       "    </tr>\n",
       "    <tr>\n",
       "      <th>25%</th>\n",
       "      <td>-5.136802</td>\n",
       "      <td>-5.055784</td>\n",
       "      <td>-3.139499</td>\n",
       "    </tr>\n",
       "    <tr>\n",
       "      <th>50%</th>\n",
       "      <td>-0.048284</td>\n",
       "      <td>-0.165986</td>\n",
       "      <td>-1.309670</td>\n",
       "    </tr>\n",
       "    <tr>\n",
       "      <th>75%</th>\n",
       "      <td>5.041549</td>\n",
       "      <td>4.947207</td>\n",
       "      <td>-0.515104</td>\n",
       "    </tr>\n",
       "    <tr>\n",
       "      <th>max</th>\n",
       "      <td>9.999255</td>\n",
       "      <td>9.989038</td>\n",
       "      <td>-0.000037</td>\n",
       "    </tr>\n",
       "  </tbody>\n",
       "</table>\n",
       "</div>"
      ],
      "text/plain": [
       "                  x             y             f\n",
       "count  10000.000000  10000.000000  10000.000000\n",
       "mean      -0.024817     -0.065471     -2.412683\n",
       "std        5.831132      5.747517      2.973883\n",
       "min       -9.998966     -9.999405    -19.174606\n",
       "25%       -5.136802     -5.055784     -3.139499\n",
       "50%       -0.048284     -0.165986     -1.309670\n",
       "75%        5.041549      4.947207     -0.515104\n",
       "max        9.999255      9.989038     -0.000037"
      ]
     },
     "execution_count": 7,
     "metadata": {},
     "output_type": "execute_result"
    }
   ],
   "source": [
    "df.describe() #Describibg the dataframe "
   ]
  },
  {
   "cell_type": "code",
   "execution_count": 8,
   "id": "b3321a95",
   "metadata": {},
   "outputs": [
    {
     "data": {
      "text/plain": [
       "(10000, 3)"
      ]
     },
     "execution_count": 8,
     "metadata": {},
     "output_type": "execute_result"
    }
   ],
   "source": [
    "df.shape #To get the dimensions of the dataframe"
   ]
  },
  {
   "cell_type": "code",
   "execution_count": 9,
   "id": "6355c020",
   "metadata": {},
   "outputs": [],
   "source": [
    "df.to_excel('Assignment_1.xlsx',index=False) #Saving the data into excel file"
   ]
  },
  {
   "cell_type": "markdown",
   "id": "0e461d02",
   "metadata": {},
   "source": [
    "# Reading data from excel file"
   ]
  },
  {
   "cell_type": "code",
   "execution_count": 10,
   "id": "096fcdf8",
   "metadata": {},
   "outputs": [
    {
     "data": {
      "text/html": [
       "<div>\n",
       "<style scoped>\n",
       "    .dataframe tbody tr th:only-of-type {\n",
       "        vertical-align: middle;\n",
       "    }\n",
       "\n",
       "    .dataframe tbody tr th {\n",
       "        vertical-align: top;\n",
       "    }\n",
       "\n",
       "    .dataframe thead th {\n",
       "        text-align: right;\n",
       "    }\n",
       "</style>\n",
       "<table border=\"1\" class=\"dataframe\">\n",
       "  <thead>\n",
       "    <tr style=\"text-align: right;\">\n",
       "      <th></th>\n",
       "      <th>x</th>\n",
       "      <th>y</th>\n",
       "      <th>f</th>\n",
       "    </tr>\n",
       "  </thead>\n",
       "  <tbody>\n",
       "    <tr>\n",
       "      <th>0</th>\n",
       "      <td>5.955971</td>\n",
       "      <td>-2.023012</td>\n",
       "      <td>-0.382610</td>\n",
       "    </tr>\n",
       "    <tr>\n",
       "      <th>1</th>\n",
       "      <td>-0.327038</td>\n",
       "      <td>-7.936002</td>\n",
       "      <td>-0.121332</td>\n",
       "    </tr>\n",
       "    <tr>\n",
       "      <th>2</th>\n",
       "      <td>-4.037751</td>\n",
       "      <td>6.441583</td>\n",
       "      <td>-3.190174</td>\n",
       "    </tr>\n",
       "    <tr>\n",
       "      <th>3</th>\n",
       "      <td>8.869686</td>\n",
       "      <td>5.118073</td>\n",
       "      <td>-1.992415</td>\n",
       "    </tr>\n",
       "    <tr>\n",
       "      <th>4</th>\n",
       "      <td>9.350782</td>\n",
       "      <td>3.564394</td>\n",
       "      <td>-0.599611</td>\n",
       "    </tr>\n",
       "  </tbody>\n",
       "</table>\n",
       "</div>"
      ],
      "text/plain": [
       "          x         y         f\n",
       "0  5.955971 -2.023012 -0.382610\n",
       "1 -0.327038 -7.936002 -0.121332\n",
       "2 -4.037751  6.441583 -3.190174\n",
       "3  8.869686  5.118073 -1.992415\n",
       "4  9.350782  3.564394 -0.599611"
      ]
     },
     "execution_count": 10,
     "metadata": {},
     "output_type": "execute_result"
    }
   ],
   "source": [
    "data=pd.read_excel('Assignment_1.xlsx') #Read the excel file\n",
    "data.head()"
   ]
  },
  {
   "cell_type": "code",
   "execution_count": 11,
   "id": "e39837d2",
   "metadata": {},
   "outputs": [
    {
     "data": {
      "text/html": [
       "<div>\n",
       "<style scoped>\n",
       "    .dataframe tbody tr th:only-of-type {\n",
       "        vertical-align: middle;\n",
       "    }\n",
       "\n",
       "    .dataframe tbody tr th {\n",
       "        vertical-align: top;\n",
       "    }\n",
       "\n",
       "    .dataframe thead th {\n",
       "        text-align: right;\n",
       "    }\n",
       "</style>\n",
       "<table border=\"1\" class=\"dataframe\">\n",
       "  <thead>\n",
       "    <tr style=\"text-align: right;\">\n",
       "      <th></th>\n",
       "      <th>x</th>\n",
       "      <th>y</th>\n",
       "      <th>f</th>\n",
       "    </tr>\n",
       "  </thead>\n",
       "  <tbody>\n",
       "    <tr>\n",
       "      <th>9995</th>\n",
       "      <td>-2.418320</td>\n",
       "      <td>9.810984</td>\n",
       "      <td>-5.624700</td>\n",
       "    </tr>\n",
       "    <tr>\n",
       "      <th>9996</th>\n",
       "      <td>4.268007</td>\n",
       "      <td>-8.032746</td>\n",
       "      <td>-1.068467</td>\n",
       "    </tr>\n",
       "    <tr>\n",
       "      <th>9997</th>\n",
       "      <td>-0.727410</td>\n",
       "      <td>-4.433515</td>\n",
       "      <td>-0.281407</td>\n",
       "    </tr>\n",
       "    <tr>\n",
       "      <th>9998</th>\n",
       "      <td>-6.295889</td>\n",
       "      <td>6.815454</td>\n",
       "      <td>-0.077201</td>\n",
       "    </tr>\n",
       "    <tr>\n",
       "      <th>9999</th>\n",
       "      <td>1.962676</td>\n",
       "      <td>-5.253318</td>\n",
       "      <td>-1.043438</td>\n",
       "    </tr>\n",
       "  </tbody>\n",
       "</table>\n",
       "</div>"
      ],
      "text/plain": [
       "             x         y         f\n",
       "9995 -2.418320  9.810984 -5.624700\n",
       "9996  4.268007 -8.032746 -1.068467\n",
       "9997 -0.727410 -4.433515 -0.281407\n",
       "9998 -6.295889  6.815454 -0.077201\n",
       "9999  1.962676 -5.253318 -1.043438"
      ]
     },
     "execution_count": 11,
     "metadata": {},
     "output_type": "execute_result"
    }
   ],
   "source": [
    "data.tail()  #To get the 5 last values of dataframe"
   ]
  },
  {
   "cell_type": "code",
   "execution_count": 12,
   "id": "29fa452f",
   "metadata": {},
   "outputs": [],
   "source": [
    "#Normalize the data between 0 and 1 \n",
    "from sklearn.preprocessing import MinMaxScaler  \n",
    "scaler=MinMaxScaler()\n",
    "data_t=scaler.fit_transform(data.values)"
   ]
  },
  {
   "cell_type": "code",
   "execution_count": 13,
   "id": "22a7fde0",
   "metadata": {},
   "outputs": [],
   "source": [
    "#Split the data into inputs and output\n",
    "X=data_t[:,0:-1]\n",
    "Y=data_t[:,-1:]"
   ]
  },
  {
   "cell_type": "code",
   "execution_count": 14,
   "id": "36a719e4",
   "metadata": {},
   "outputs": [
    {
     "data": {
      "text/plain": [
       "array([[0.79781781, 0.39905023],\n",
       "       [0.48363944, 0.10322979],\n",
       "       [0.29808726, 0.82252469],\n",
       "       ...,\n",
       "       [0.46361906, 0.27845543],\n",
       "       [0.1851703 , 0.84122906],\n",
       "       [0.5981353 , 0.23744158]])"
      ]
     },
     "execution_count": 14,
     "metadata": {},
     "output_type": "execute_result"
    }
   ],
   "source": [
    "X #X-values"
   ]
  },
  {
   "cell_type": "code",
   "execution_count": 15,
   "id": "021761d0",
   "metadata": {},
   "outputs": [
    {
     "data": {
      "text/plain": [
       "array([[0.9800479 ],\n",
       "       [0.99367415],\n",
       "       [0.83362667],\n",
       "       ...,\n",
       "       [0.98532584],\n",
       "       [0.9959757 ],\n",
       "       [0.94558409]])"
      ]
     },
     "execution_count": 15,
     "metadata": {},
     "output_type": "execute_result"
    }
   ],
   "source": [
    "Y #Y-values"
   ]
  },
  {
   "cell_type": "code",
   "execution_count": 16,
   "id": "30fdcdbb",
   "metadata": {},
   "outputs": [],
   "source": [
    "#Dividing the data into train and test data\n",
    "from sklearn.model_selection import train_test_split\n",
    "X_train,X_test,Y_train,Y_test=train_test_split(X,Y,test_size=0.15,random_state=0)"
   ]
  },
  {
   "cell_type": "code",
   "execution_count": 17,
   "id": "a190812a",
   "metadata": {},
   "outputs": [
    {
     "data": {
      "text/plain": [
       "(8500, 2)"
      ]
     },
     "execution_count": 17,
     "metadata": {},
     "output_type": "execute_result"
    }
   ],
   "source": [
    "X_train.shape #To get the dimension of the training data"
   ]
  },
  {
   "cell_type": "markdown",
   "id": "f24a0569",
   "metadata": {},
   "source": [
    "# Creating an ANN"
   ]
  },
  {
   "cell_type": "code",
   "execution_count": 18,
   "id": "548caa23",
   "metadata": {},
   "outputs": [],
   "source": [
    "from tensorflow.keras import Sequential\n",
    "from tensorflow.keras.layers import Dense"
   ]
  },
  {
   "cell_type": "code",
   "execution_count": 19,
   "id": "1276d69d",
   "metadata": {},
   "outputs": [],
   "source": [
    "#Creating an artificial neural network with 2 hidden layers\n",
    "model=Sequential()\n",
    "model.add(Dense(64,input_dim=2,activation='relu'))\n",
    "model.add(Dense(32,activation='relu'))\n",
    "model.add(Dense(32,activation='relu'))\n",
    "model.add(Dense(1,activation='linear'))"
   ]
  },
  {
   "cell_type": "code",
   "execution_count": 20,
   "id": "73f2443c",
   "metadata": {},
   "outputs": [
    {
     "name": "stdout",
     "output_type": "stream",
     "text": [
      "Model: \"sequential\"\n",
      "_________________________________________________________________\n",
      " Layer (type)                Output Shape              Param #   \n",
      "=================================================================\n",
      " dense (Dense)               (None, 64)                192       \n",
      "                                                                 \n",
      " dense_1 (Dense)             (None, 32)                2080      \n",
      "                                                                 \n",
      " dense_2 (Dense)             (None, 32)                1056      \n",
      "                                                                 \n",
      " dense_3 (Dense)             (None, 1)                 33        \n",
      "                                                                 \n",
      "=================================================================\n",
      "Total params: 3,361\n",
      "Trainable params: 3,361\n",
      "Non-trainable params: 0\n",
      "_________________________________________________________________\n",
      "None\n"
     ]
    }
   ],
   "source": [
    "print(model.summary()) #To get the summary of the ANN"
   ]
  },
  {
   "cell_type": "code",
   "execution_count": 21,
   "id": "2d4206c4",
   "metadata": {},
   "outputs": [
    {
     "name": "stdout",
     "output_type": "stream",
     "text": [
      "Epoch 1/100\n",
      "226/226 [==============================] - 2s 4ms/step - loss: 0.0973 - val_loss: 0.0168\n",
      "Epoch 2/100\n",
      "226/226 [==============================] - 1s 3ms/step - loss: 0.0171 - val_loss: 0.0146\n",
      "Epoch 3/100\n",
      "226/226 [==============================] - 1s 3ms/step - loss: 0.0154 - val_loss: 0.0170\n",
      "Epoch 4/100\n",
      "226/226 [==============================] - 1s 3ms/step - loss: 0.0144 - val_loss: 0.0128\n",
      "Epoch 5/100\n",
      "226/226 [==============================] - 1s 3ms/step - loss: 0.0137 - val_loss: 0.0141\n",
      "Epoch 6/100\n",
      "226/226 [==============================] - 1s 3ms/step - loss: 0.0134 - val_loss: 0.0128\n",
      "Epoch 7/100\n",
      "226/226 [==============================] - 1s 3ms/step - loss: 0.0129 - val_loss: 0.0147\n",
      "Epoch 8/100\n",
      "226/226 [==============================] - 1s 3ms/step - loss: 0.0126 - val_loss: 0.0122\n",
      "Epoch 9/100\n",
      "226/226 [==============================] - 1s 2ms/step - loss: 0.0124 - val_loss: 0.0127\n",
      "Epoch 10/100\n",
      "226/226 [==============================] - 1s 2ms/step - loss: 0.0122 - val_loss: 0.0123\n",
      "Epoch 11/100\n",
      "226/226 [==============================] - 0s 2ms/step - loss: 0.0122 - val_loss: 0.0128\n",
      "Epoch 12/100\n",
      "226/226 [==============================] - 1s 2ms/step - loss: 0.0120 - val_loss: 0.0116\n",
      "Epoch 13/100\n",
      "226/226 [==============================] - 1s 2ms/step - loss: 0.0117 - val_loss: 0.0122\n",
      "Epoch 14/100\n",
      "226/226 [==============================] - 1s 2ms/step - loss: 0.0123 - val_loss: 0.0127\n",
      "Epoch 15/100\n",
      "226/226 [==============================] - 1s 2ms/step - loss: 0.0117 - val_loss: 0.0116\n",
      "Epoch 16/100\n",
      "226/226 [==============================] - 1s 2ms/step - loss: 0.0113 - val_loss: 0.0117\n",
      "Epoch 17/100\n",
      "226/226 [==============================] - 1s 3ms/step - loss: 0.0115 - val_loss: 0.0113\n",
      "Epoch 18/100\n",
      "226/226 [==============================] - 4s 16ms/step - loss: 0.0113 - val_loss: 0.0129\n",
      "Epoch 19/100\n",
      "226/226 [==============================] - 7s 30ms/step - loss: 0.0115 - val_loss: 0.0114\n",
      "Epoch 20/100\n",
      "226/226 [==============================] - 6s 26ms/step - loss: 0.0110 - val_loss: 0.0113\n",
      "Epoch 21/100\n",
      "226/226 [==============================] - 8s 36ms/step - loss: 0.0111 - val_loss: 0.0109\n",
      "Epoch 22/100\n",
      "226/226 [==============================] - 5s 23ms/step - loss: 0.0110 - val_loss: 0.0115\n",
      "Epoch 23/100\n",
      "226/226 [==============================] - 6s 25ms/step - loss: 0.0110 - val_loss: 0.0110\n",
      "Epoch 24/100\n",
      "226/226 [==============================] - 6s 25ms/step - loss: 0.0109 - val_loss: 0.0125\n",
      "Epoch 25/100\n",
      "226/226 [==============================] - 6s 25ms/step - loss: 0.0109 - val_loss: 0.0120\n",
      "Epoch 26/100\n",
      "226/226 [==============================] - 2s 10ms/step - loss: 0.0105 - val_loss: 0.0111\n",
      "Epoch 27/100\n",
      "226/226 [==============================] - 1s 6ms/step - loss: 0.0105 - val_loss: 0.0113\n",
      "Epoch 28/100\n",
      "226/226 [==============================] - 1s 5ms/step - loss: 0.0105 - val_loss: 0.0111\n",
      "Epoch 29/100\n",
      "226/226 [==============================] - 1s 4ms/step - loss: 0.0106 - val_loss: 0.0120\n",
      "Epoch 30/100\n",
      "226/226 [==============================] - 1s 4ms/step - loss: 0.0104 - val_loss: 0.0123\n",
      "Epoch 31/100\n",
      "226/226 [==============================] - 1s 4ms/step - loss: 0.0105 - val_loss: 0.0107\n",
      "Epoch 32/100\n",
      "226/226 [==============================] - 1s 4ms/step - loss: 0.0105 - val_loss: 0.0111\n",
      "Epoch 33/100\n",
      "226/226 [==============================] - 1s 4ms/step - loss: 0.0102 - val_loss: 0.0111\n",
      "Epoch 34/100\n",
      "226/226 [==============================] - 1s 4ms/step - loss: 0.0103 - val_loss: 0.0115\n",
      "Epoch 35/100\n",
      "226/226 [==============================] - 1s 4ms/step - loss: 0.0102 - val_loss: 0.0110\n",
      "Epoch 36/100\n",
      "226/226 [==============================] - 1s 4ms/step - loss: 0.0103 - val_loss: 0.0109\n",
      "Epoch 37/100\n",
      "226/226 [==============================] - 1s 4ms/step - loss: 0.0101 - val_loss: 0.0104\n",
      "Epoch 38/100\n",
      "226/226 [==============================] - 1s 5ms/step - loss: 0.0099 - val_loss: 0.0105\n",
      "Epoch 39/100\n",
      "226/226 [==============================] - 1s 6ms/step - loss: 0.0098 - val_loss: 0.0106\n",
      "Epoch 40/100\n",
      "226/226 [==============================] - 1s 5ms/step - loss: 0.0100 - val_loss: 0.0110\n",
      "Epoch 41/100\n",
      "226/226 [==============================] - 1s 5ms/step - loss: 0.0097 - val_loss: 0.0103\n",
      "Epoch 42/100\n",
      "226/226 [==============================] - 1s 5ms/step - loss: 0.0101 - val_loss: 0.0116\n",
      "Epoch 43/100\n",
      "226/226 [==============================] - 1s 6ms/step - loss: 0.0097 - val_loss: 0.0100\n",
      "Epoch 44/100\n",
      "226/226 [==============================] - 1s 5ms/step - loss: 0.0094 - val_loss: 0.0102\n",
      "Epoch 45/100\n",
      "226/226 [==============================] - 1s 6ms/step - loss: 0.0096 - val_loss: 0.0102\n",
      "Epoch 46/100\n",
      "226/226 [==============================] - 1s 4ms/step - loss: 0.0094 - val_loss: 0.0107\n",
      "Epoch 47/100\n",
      "226/226 [==============================] - 1s 4ms/step - loss: 0.0094 - val_loss: 0.0102\n",
      "Epoch 48/100\n",
      "226/226 [==============================] - 1s 4ms/step - loss: 0.0093 - val_loss: 0.0102\n",
      "Epoch 49/100\n",
      "226/226 [==============================] - 1s 4ms/step - loss: 0.0096 - val_loss: 0.0106\n",
      "Epoch 50/100\n",
      "226/226 [==============================] - 1s 5ms/step - loss: 0.0092 - val_loss: 0.0100\n",
      "Epoch 51/100\n",
      "226/226 [==============================] - 1s 4ms/step - loss: 0.0092 - val_loss: 0.0130\n",
      "Epoch 52/100\n",
      "226/226 [==============================] - 1s 3ms/step - loss: 0.0093 - val_loss: 0.0098\n",
      "Epoch 53/100\n",
      "226/226 [==============================] - 1s 4ms/step - loss: 0.0092 - val_loss: 0.0099\n",
      "Epoch 54/100\n",
      "226/226 [==============================] - 1s 3ms/step - loss: 0.0092 - val_loss: 0.0103\n",
      "Epoch 55/100\n",
      "226/226 [==============================] - 1s 4ms/step - loss: 0.0091 - val_loss: 0.0097\n",
      "Epoch 56/100\n",
      "226/226 [==============================] - 1s 4ms/step - loss: 0.0090 - val_loss: 0.0110\n",
      "Epoch 57/100\n",
      "226/226 [==============================] - 1s 4ms/step - loss: 0.0092 - val_loss: 0.0096\n",
      "Epoch 58/100\n",
      "226/226 [==============================] - 1s 4ms/step - loss: 0.0089 - val_loss: 0.0112\n",
      "Epoch 59/100\n",
      "226/226 [==============================] - 1s 4ms/step - loss: 0.0089 - val_loss: 0.0100\n",
      "Epoch 60/100\n",
      "226/226 [==============================] - 1s 5ms/step - loss: 0.0089 - val_loss: 0.0104\n",
      "Epoch 61/100\n",
      "226/226 [==============================] - 1s 5ms/step - loss: 0.0089 - val_loss: 0.0099\n",
      "Epoch 62/100\n",
      "226/226 [==============================] - 1s 4ms/step - loss: 0.0087 - val_loss: 0.0096\n",
      "Epoch 63/100\n",
      "226/226 [==============================] - 1s 4ms/step - loss: 0.0088 - val_loss: 0.0105\n",
      "Epoch 64/100\n",
      "226/226 [==============================] - 1s 4ms/step - loss: 0.0088 - val_loss: 0.0103\n",
      "Epoch 65/100\n",
      "226/226 [==============================] - 1s 4ms/step - loss: 0.0088 - val_loss: 0.0096\n",
      "Epoch 66/100\n",
      "226/226 [==============================] - 1s 5ms/step - loss: 0.0087 - val_loss: 0.0092\n",
      "Epoch 67/100\n",
      "226/226 [==============================] - 1s 5ms/step - loss: 0.0088 - val_loss: 0.0107\n",
      "Epoch 68/100\n",
      "226/226 [==============================] - 1s 5ms/step - loss: 0.0086 - val_loss: 0.0098\n",
      "Epoch 69/100\n",
      "226/226 [==============================] - 1s 5ms/step - loss: 0.0086 - val_loss: 0.0098\n",
      "Epoch 70/100\n",
      "226/226 [==============================] - 1s 5ms/step - loss: 0.0087 - val_loss: 0.0093\n",
      "Epoch 71/100\n",
      "226/226 [==============================] - 1s 5ms/step - loss: 0.0086 - val_loss: 0.0098\n",
      "Epoch 72/100\n",
      "226/226 [==============================] - 1s 6ms/step - loss: 0.0085 - val_loss: 0.0095\n",
      "Epoch 73/100\n",
      "226/226 [==============================] - 1s 6ms/step - loss: 0.0087 - val_loss: 0.0093\n",
      "Epoch 74/100\n",
      "226/226 [==============================] - 1s 5ms/step - loss: 0.0084 - val_loss: 0.0094\n",
      "Epoch 75/100\n",
      "226/226 [==============================] - 1s 6ms/step - loss: 0.0083 - val_loss: 0.0099\n",
      "Epoch 76/100\n",
      "226/226 [==============================] - 1s 6ms/step - loss: 0.0083 - val_loss: 0.0095\n",
      "Epoch 77/100\n",
      "226/226 [==============================] - 1s 6ms/step - loss: 0.0083 - val_loss: 0.0097\n",
      "Epoch 78/100\n",
      "226/226 [==============================] - 1s 4ms/step - loss: 0.0081 - val_loss: 0.0099\n",
      "Epoch 79/100\n",
      "226/226 [==============================] - 1s 4ms/step - loss: 0.0084 - val_loss: 0.0097\n",
      "Epoch 80/100\n",
      "226/226 [==============================] - 1s 4ms/step - loss: 0.0082 - val_loss: 0.0093\n",
      "Epoch 81/100\n"
     ]
    },
    {
     "name": "stdout",
     "output_type": "stream",
     "text": [
      "226/226 [==============================] - 1s 3ms/step - loss: 0.0081 - val_loss: 0.0101\n",
      "Epoch 82/100\n",
      "226/226 [==============================] - 1s 3ms/step - loss: 0.0083 - val_loss: 0.0091\n",
      "Epoch 83/100\n",
      "226/226 [==============================] - 1s 3ms/step - loss: 0.0081 - val_loss: 0.0089\n",
      "Epoch 84/100\n",
      "226/226 [==============================] - 1s 3ms/step - loss: 0.0079 - val_loss: 0.0087\n",
      "Epoch 85/100\n",
      "226/226 [==============================] - 1s 3ms/step - loss: 0.0080 - val_loss: 0.0094\n",
      "Epoch 86/100\n",
      "226/226 [==============================] - 1s 3ms/step - loss: 0.0082 - val_loss: 0.0087\n",
      "Epoch 87/100\n",
      "226/226 [==============================] - 1s 3ms/step - loss: 0.0079 - val_loss: 0.0099\n",
      "Epoch 88/100\n",
      "226/226 [==============================] - 1s 3ms/step - loss: 0.0078 - val_loss: 0.0090\n",
      "Epoch 89/100\n",
      "226/226 [==============================] - 1s 3ms/step - loss: 0.0080 - val_loss: 0.0090\n",
      "Epoch 90/100\n",
      "226/226 [==============================] - 1s 3ms/step - loss: 0.0079 - val_loss: 0.0087\n",
      "Epoch 91/100\n",
      "226/226 [==============================] - 1s 2ms/step - loss: 0.0077 - val_loss: 0.0084\n",
      "Epoch 92/100\n",
      "226/226 [==============================] - 1s 3ms/step - loss: 0.0080 - val_loss: 0.0094\n",
      "Epoch 93/100\n",
      "226/226 [==============================] - 1s 2ms/step - loss: 0.0077 - val_loss: 0.0089\n",
      "Epoch 94/100\n",
      "226/226 [==============================] - 1s 2ms/step - loss: 0.0077 - val_loss: 0.0084\n",
      "Epoch 95/100\n",
      "226/226 [==============================] - 1s 2ms/step - loss: 0.0077 - val_loss: 0.0094\n",
      "Epoch 96/100\n",
      "226/226 [==============================] - 1s 2ms/step - loss: 0.0075 - val_loss: 0.0104\n",
      "Epoch 97/100\n",
      "226/226 [==============================] - 1s 2ms/step - loss: 0.0075 - val_loss: 0.0090\n",
      "Epoch 98/100\n",
      "226/226 [==============================] - 1s 3ms/step - loss: 0.0075 - val_loss: 0.0084\n",
      "Epoch 99/100\n",
      "226/226 [==============================] - 1s 2ms/step - loss: 0.0076 - val_loss: 0.0082\n",
      "Epoch 100/100\n",
      "226/226 [==============================] - 1s 3ms/step - loss: 0.0075 - val_loss: 0.0094\n"
     ]
    }
   ],
   "source": [
    "#Training the neural network using Adam optimizer and MSE loss function\n",
    "model.compile(optimizer='adam',loss='MSE')\n",
    "history=model.fit(X_train,Y_train,epochs=100,validation_split=0.15)"
   ]
  },
  {
   "cell_type": "code",
   "execution_count": 22,
   "id": "b670ecde",
   "metadata": {},
   "outputs": [
    {
     "name": "stdout",
     "output_type": "stream",
     "text": [
      "266/266 [==============================] - 1s 2ms/step\n"
     ]
    }
   ],
   "source": [
    "from sklearn.metrics import r2_score\n",
    "Y_train_pre=model.predict(X_train)"
   ]
  },
  {
   "cell_type": "code",
   "execution_count": 23,
   "id": "cec6ebb7",
   "metadata": {},
   "outputs": [
    {
     "data": {
      "text/plain": [
       "0.008182996541447624"
      ]
     },
     "execution_count": 23,
     "metadata": {},
     "output_type": "execute_result"
    }
   ],
   "source": [
    "from sklearn.metrics import mean_squared_error\n",
    "mse=mean_squared_error(Y_train,Y_train_pre)\n",
    "mse"
   ]
  },
  {
   "cell_type": "code",
   "execution_count": 24,
   "id": "c2c78777",
   "metadata": {
    "scrolled": true
   },
   "outputs": [
    {
     "data": {
      "text/plain": [
       "0.6632878081692"
      ]
     },
     "execution_count": 24,
     "metadata": {},
     "output_type": "execute_result"
    }
   ],
   "source": [
    "#R2 values for training data.\n",
    "r2_train=r2_score(Y_train,Y_train_pre)\n",
    "r2_train"
   ]
  },
  {
   "cell_type": "code",
   "execution_count": 25,
   "id": "2e216753",
   "metadata": {},
   "outputs": [
    {
     "name": "stdout",
     "output_type": "stream",
     "text": [
      "47/47 [==============================] - 0s 2ms/step\n"
     ]
    },
    {
     "data": {
      "text/plain": [
       "0.631507170522954"
      ]
     },
     "execution_count": 25,
     "metadata": {},
     "output_type": "execute_result"
    }
   ],
   "source": [
    "Y_test_pre=model.predict(X_test) #Predict the outputs for testing dataset\n",
    "r2_test=r2_score(Y_test,Y_test_pre) #Report R2 values for  the testing dataset.\n",
    "r2_test"
   ]
  },
  {
   "cell_type": "code",
   "execution_count": 26,
   "id": "c424abd1",
   "metadata": {},
   "outputs": [
    {
     "name": "stdout",
     "output_type": "stream",
     "text": [
      "Epoch 1/100\n",
      "226/226 [==============================] - 1s 3ms/step - loss: 0.0077 - val_loss: 0.0083\n",
      "Epoch 2/100\n",
      "226/226 [==============================] - 1s 2ms/step - loss: 0.0077 - val_loss: 0.0089\n",
      "Epoch 3/100\n",
      "226/226 [==============================] - 1s 2ms/step - loss: 0.0076 - val_loss: 0.0095\n",
      "Epoch 4/100\n",
      "226/226 [==============================] - 1s 2ms/step - loss: 0.0076 - val_loss: 0.0080\n",
      "Epoch 5/100\n",
      "226/226 [==============================] - 1s 2ms/step - loss: 0.0075 - val_loss: 0.0081\n",
      "Epoch 6/100\n",
      "226/226 [==============================] - 1s 3ms/step - loss: 0.0075 - val_loss: 0.0088\n",
      "Epoch 7/100\n",
      "226/226 [==============================] - 1s 2ms/step - loss: 0.0074 - val_loss: 0.0089\n",
      "Epoch 8/100\n",
      "226/226 [==============================] - 1s 2ms/step - loss: 0.0075 - val_loss: 0.0085\n",
      "Epoch 9/100\n",
      "226/226 [==============================] - 1s 2ms/step - loss: 0.0075 - val_loss: 0.0084\n",
      "Epoch 10/100\n",
      "226/226 [==============================] - 1s 2ms/step - loss: 0.0074 - val_loss: 0.0080\n",
      "Epoch 11/100\n",
      "226/226 [==============================] - 1s 3ms/step - loss: 0.0074 - val_loss: 0.0080\n",
      "Epoch 12/100\n",
      "226/226 [==============================] - 1s 2ms/step - loss: 0.0073 - val_loss: 0.0084\n",
      "Epoch 13/100\n",
      "226/226 [==============================] - 1s 2ms/step - loss: 0.0073 - val_loss: 0.0080\n",
      "Epoch 14/100\n",
      "226/226 [==============================] - 1s 3ms/step - loss: 0.0072 - val_loss: 0.0080\n",
      "Epoch 15/100\n",
      "226/226 [==============================] - 1s 3ms/step - loss: 0.0072 - val_loss: 0.0081\n",
      "Epoch 16/100\n",
      "226/226 [==============================] - 1s 3ms/step - loss: 0.0071 - val_loss: 0.0106\n",
      "Epoch 17/100\n",
      "226/226 [==============================] - 1s 2ms/step - loss: 0.0072 - val_loss: 0.0081\n",
      "Epoch 18/100\n",
      "226/226 [==============================] - 1s 3ms/step - loss: 0.0072 - val_loss: 0.0079\n",
      "Epoch 19/100\n",
      "226/226 [==============================] - 1s 3ms/step - loss: 0.0071 - val_loss: 0.0079\n",
      "Epoch 20/100\n",
      "226/226 [==============================] - 1s 3ms/step - loss: 0.0071 - val_loss: 0.0080\n",
      "Epoch 21/100\n",
      "226/226 [==============================] - 1s 4ms/step - loss: 0.0070 - val_loss: 0.0076\n",
      "Epoch 22/100\n",
      "226/226 [==============================] - 1s 3ms/step - loss: 0.0070 - val_loss: 0.0078\n",
      "Epoch 23/100\n",
      "226/226 [==============================] - 1s 3ms/step - loss: 0.0069 - val_loss: 0.0085\n",
      "Epoch 24/100\n",
      "226/226 [==============================] - 1s 3ms/step - loss: 0.0069 - val_loss: 0.0076\n",
      "Epoch 25/100\n",
      "226/226 [==============================] - 1s 3ms/step - loss: 0.0069 - val_loss: 0.0080\n",
      "Epoch 26/100\n",
      "226/226 [==============================] - 1s 3ms/step - loss: 0.0070 - val_loss: 0.0077\n",
      "Epoch 27/100\n",
      "226/226 [==============================] - 1s 4ms/step - loss: 0.0069 - val_loss: 0.0081\n",
      "Epoch 28/100\n",
      "226/226 [==============================] - 1s 5ms/step - loss: 0.0068 - val_loss: 0.0077\n",
      "Epoch 29/100\n",
      "226/226 [==============================] - 1s 4ms/step - loss: 0.0068 - val_loss: 0.0086\n",
      "Epoch 30/100\n",
      "226/226 [==============================] - 1s 3ms/step - loss: 0.0068 - val_loss: 0.0077\n",
      "Epoch 31/100\n",
      "226/226 [==============================] - 1s 3ms/step - loss: 0.0069 - val_loss: 0.0078\n",
      "Epoch 32/100\n",
      "226/226 [==============================] - 1s 3ms/step - loss: 0.0068 - val_loss: 0.0085\n",
      "Epoch 33/100\n",
      "226/226 [==============================] - 1s 3ms/step - loss: 0.0066 - val_loss: 0.0079\n",
      "Epoch 34/100\n",
      "226/226 [==============================] - 1s 2ms/step - loss: 0.0066 - val_loss: 0.0074\n",
      "Epoch 35/100\n",
      "226/226 [==============================] - 1s 2ms/step - loss: 0.0066 - val_loss: 0.0072\n",
      "Epoch 36/100\n",
      "226/226 [==============================] - 1s 3ms/step - loss: 0.0066 - val_loss: 0.0071\n",
      "Epoch 37/100\n",
      "226/226 [==============================] - 1s 3ms/step - loss: 0.0067 - val_loss: 0.0071\n",
      "Epoch 38/100\n",
      "226/226 [==============================] - 1s 3ms/step - loss: 0.0067 - val_loss: 0.0076\n",
      "Epoch 39/100\n",
      "226/226 [==============================] - 1s 3ms/step - loss: 0.0067 - val_loss: 0.0071\n",
      "Epoch 40/100\n",
      "226/226 [==============================] - 1s 3ms/step - loss: 0.0066 - val_loss: 0.0078\n",
      "Epoch 41/100\n",
      "226/226 [==============================] - 1s 3ms/step - loss: 0.0065 - val_loss: 0.0080\n",
      "Epoch 42/100\n",
      "226/226 [==============================] - 1s 3ms/step - loss: 0.0066 - val_loss: 0.0077\n",
      "Epoch 43/100\n",
      "226/226 [==============================] - 1s 3ms/step - loss: 0.0064 - val_loss: 0.0078\n",
      "Epoch 44/100\n",
      "226/226 [==============================] - 1s 3ms/step - loss: 0.0064 - val_loss: 0.0073\n",
      "Epoch 45/100\n",
      "226/226 [==============================] - 1s 3ms/step - loss: 0.0065 - val_loss: 0.0077\n",
      "Epoch 46/100\n",
      "226/226 [==============================] - 1s 2ms/step - loss: 0.0065 - val_loss: 0.0077\n",
      "Epoch 47/100\n",
      "226/226 [==============================] - 1s 2ms/step - loss: 0.0064 - val_loss: 0.0080\n",
      "Epoch 48/100\n",
      "226/226 [==============================] - 1s 2ms/step - loss: 0.0063 - val_loss: 0.0070\n",
      "Epoch 49/100\n",
      "226/226 [==============================] - 1s 3ms/step - loss: 0.0064 - val_loss: 0.0078\n",
      "Epoch 50/100\n",
      "226/226 [==============================] - 1s 3ms/step - loss: 0.0063 - val_loss: 0.0077\n",
      "Epoch 51/100\n",
      "226/226 [==============================] - 1s 3ms/step - loss: 0.0063 - val_loss: 0.0078\n",
      "Epoch 52/100\n",
      "226/226 [==============================] - 1s 3ms/step - loss: 0.0064 - val_loss: 0.0074\n",
      "Epoch 53/100\n",
      "226/226 [==============================] - 1s 3ms/step - loss: 0.0063 - val_loss: 0.0075\n",
      "Epoch 54/100\n",
      "226/226 [==============================] - 1s 3ms/step - loss: 0.0064 - val_loss: 0.0071\n",
      "Epoch 55/100\n",
      "226/226 [==============================] - 1s 3ms/step - loss: 0.0063 - val_loss: 0.0078\n",
      "Epoch 56/100\n",
      "226/226 [==============================] - 1s 3ms/step - loss: 0.0061 - val_loss: 0.0073\n",
      "Epoch 57/100\n",
      "226/226 [==============================] - 1s 3ms/step - loss: 0.0062 - val_loss: 0.0074\n",
      "Epoch 58/100\n",
      "226/226 [==============================] - 1s 3ms/step - loss: 0.0062 - val_loss: 0.0075\n",
      "Epoch 59/100\n",
      "226/226 [==============================] - 1s 3ms/step - loss: 0.0062 - val_loss: 0.0085\n",
      "Epoch 60/100\n",
      "226/226 [==============================] - 1s 3ms/step - loss: 0.0062 - val_loss: 0.0066\n",
      "Epoch 61/100\n",
      "226/226 [==============================] - 1s 3ms/step - loss: 0.0061 - val_loss: 0.0069\n",
      "Epoch 62/100\n",
      "226/226 [==============================] - 1s 5ms/step - loss: 0.0061 - val_loss: 0.0073\n",
      "Epoch 63/100\n",
      "226/226 [==============================] - 1s 4ms/step - loss: 0.0062 - val_loss: 0.0073\n",
      "Epoch 64/100\n",
      "226/226 [==============================] - 1s 3ms/step - loss: 0.0061 - val_loss: 0.0072\n",
      "Epoch 65/100\n",
      "226/226 [==============================] - 1s 3ms/step - loss: 0.0061 - val_loss: 0.0069\n",
      "Epoch 66/100\n",
      "226/226 [==============================] - 1s 4ms/step - loss: 0.0060 - val_loss: 0.0081\n",
      "Epoch 67/100\n",
      "226/226 [==============================] - 1s 3ms/step - loss: 0.0061 - val_loss: 0.0078\n",
      "Epoch 68/100\n",
      "226/226 [==============================] - 1s 3ms/step - loss: 0.0060 - val_loss: 0.0085\n",
      "Epoch 69/100\n",
      "226/226 [==============================] - 1s 3ms/step - loss: 0.0061 - val_loss: 0.0071\n",
      "Epoch 70/100\n",
      "226/226 [==============================] - 1s 3ms/step - loss: 0.0060 - val_loss: 0.0081\n",
      "Epoch 71/100\n",
      "226/226 [==============================] - 1s 3ms/step - loss: 0.0060 - val_loss: 0.0066\n",
      "Epoch 72/100\n",
      "226/226 [==============================] - 1s 3ms/step - loss: 0.0060 - val_loss: 0.0076\n",
      "Epoch 73/100\n",
      "226/226 [==============================] - 1s 3ms/step - loss: 0.0059 - val_loss: 0.0081\n",
      "Epoch 74/100\n",
      "226/226 [==============================] - 1s 3ms/step - loss: 0.0060 - val_loss: 0.0068\n",
      "Epoch 75/100\n",
      "226/226 [==============================] - 1s 4ms/step - loss: 0.0059 - val_loss: 0.0070\n",
      "Epoch 76/100\n",
      "226/226 [==============================] - 1s 4ms/step - loss: 0.0060 - val_loss: 0.0069\n",
      "Epoch 77/100\n",
      "226/226 [==============================] - 1s 3ms/step - loss: 0.0059 - val_loss: 0.0075\n",
      "Epoch 78/100\n",
      "226/226 [==============================] - 1s 3ms/step - loss: 0.0059 - val_loss: 0.0064\n",
      "Epoch 79/100\n",
      "226/226 [==============================] - 1s 3ms/step - loss: 0.0058 - val_loss: 0.0067\n",
      "Epoch 80/100\n",
      "226/226 [==============================] - 1s 3ms/step - loss: 0.0059 - val_loss: 0.0065\n",
      "Epoch 81/100\n"
     ]
    },
    {
     "name": "stdout",
     "output_type": "stream",
     "text": [
      "226/226 [==============================] - 1s 3ms/step - loss: 0.0059 - val_loss: 0.0069\n",
      "Epoch 82/100\n",
      "226/226 [==============================] - 1s 3ms/step - loss: 0.0058 - val_loss: 0.0073\n",
      "Epoch 83/100\n",
      "226/226 [==============================] - 1s 2ms/step - loss: 0.0059 - val_loss: 0.0061\n",
      "Epoch 84/100\n",
      "226/226 [==============================] - 1s 3ms/step - loss: 0.0058 - val_loss: 0.0064\n",
      "Epoch 85/100\n",
      "226/226 [==============================] - 1s 3ms/step - loss: 0.0058 - val_loss: 0.0069\n",
      "Epoch 86/100\n",
      "226/226 [==============================] - 1s 2ms/step - loss: 0.0057 - val_loss: 0.0067\n",
      "Epoch 87/100\n",
      "226/226 [==============================] - 1s 3ms/step - loss: 0.0057 - val_loss: 0.0068\n",
      "Epoch 88/100\n",
      "226/226 [==============================] - 1s 3ms/step - loss: 0.0057 - val_loss: 0.0077\n",
      "Epoch 89/100\n",
      "226/226 [==============================] - 1s 2ms/step - loss: 0.0057 - val_loss: 0.0064\n",
      "Epoch 90/100\n",
      "226/226 [==============================] - 1s 2ms/step - loss: 0.0057 - val_loss: 0.0065\n",
      "Epoch 91/100\n",
      "226/226 [==============================] - 1s 2ms/step - loss: 0.0056 - val_loss: 0.0068\n",
      "Epoch 92/100\n",
      "226/226 [==============================] - 1s 3ms/step - loss: 0.0057 - val_loss: 0.0078\n",
      "Epoch 93/100\n",
      "226/226 [==============================] - 1s 2ms/step - loss: 0.0056 - val_loss: 0.0066\n",
      "Epoch 94/100\n",
      "226/226 [==============================] - 1s 3ms/step - loss: 0.0057 - val_loss: 0.0059\n",
      "Epoch 95/100\n",
      "226/226 [==============================] - 1s 3ms/step - loss: 0.0057 - val_loss: 0.0064\n",
      "Epoch 96/100\n",
      "226/226 [==============================] - 1s 3ms/step - loss: 0.0056 - val_loss: 0.0061\n",
      "Epoch 97/100\n",
      "226/226 [==============================] - 1s 3ms/step - loss: 0.0056 - val_loss: 0.0061\n",
      "Epoch 98/100\n",
      "226/226 [==============================] - 1s 3ms/step - loss: 0.0056 - val_loss: 0.0063\n",
      "Epoch 99/100\n",
      "226/226 [==============================] - 1s 3ms/step - loss: 0.0056 - val_loss: 0.0071\n",
      "Epoch 100/100\n",
      "226/226 [==============================] - 1s 3ms/step - loss: 0.0055 - val_loss: 0.0078\n"
     ]
    }
   ],
   "source": [
    "# Training the same network using RMSProp optimizer\n",
    "model.compile(optimizer='RMSProp',loss='MSE')\n",
    "history=model.fit(X_train,Y_train,epochs=100,validation_split=0.15)"
   ]
  },
  {
   "cell_type": "code",
   "execution_count": 27,
   "id": "eb82cb8c",
   "metadata": {},
   "outputs": [
    {
     "name": "stdout",
     "output_type": "stream",
     "text": [
      "266/266 [==============================] - 1s 2ms/step\n"
     ]
    }
   ],
   "source": [
    "from sklearn.metrics import r2_score\n",
    "Y_train_pre=model.predict(X_train)"
   ]
  },
  {
   "cell_type": "code",
   "execution_count": 28,
   "id": "7df831a4",
   "metadata": {},
   "outputs": [
    {
     "data": {
      "text/plain": [
       "0.006227168454237248"
      ]
     },
     "execution_count": 28,
     "metadata": {},
     "output_type": "execute_result"
    }
   ],
   "source": [
    "from sklearn.metrics import mean_squared_error\n",
    "mse=mean_squared_error(Y_train,Y_train_pre)\n",
    "mse"
   ]
  },
  {
   "cell_type": "code",
   "execution_count": 29,
   "id": "b4351ca2",
   "metadata": {},
   "outputs": [
    {
     "data": {
      "text/plain": [
       "0.7437658040663295"
      ]
     },
     "execution_count": 29,
     "metadata": {},
     "output_type": "execute_result"
    }
   ],
   "source": [
    "#R2 values for training data.\n",
    "r2_train=r2_score(Y_train,Y_train_pre)\n",
    "r2_train"
   ]
  },
  {
   "cell_type": "code",
   "execution_count": 30,
   "id": "10364f78",
   "metadata": {},
   "outputs": [
    {
     "name": "stdout",
     "output_type": "stream",
     "text": [
      "47/47 [==============================] - 0s 2ms/step\n"
     ]
    },
    {
     "data": {
      "text/plain": [
       "0.7055342630446748"
      ]
     },
     "execution_count": 30,
     "metadata": {},
     "output_type": "execute_result"
    }
   ],
   "source": [
    "Y_test_pre=model.predict(X_test)\n",
    "r2_test=r2_score(Y_test,Y_test_pre)  #Report R2 values for  the testing dataset.\n",
    "r2_test"
   ]
  },
  {
   "cell_type": "code",
   "execution_count": 34,
   "id": "1cb913c9",
   "metadata": {},
   "outputs": [
    {
     "data": {
      "image/png": "[encoded data removed]",
      "text/plain": [
       "<Figure size 640x480 with 1 Axes>"
      ]
     },
     "metadata": {},
     "output_type": "display_data"
    }
   ],
   "source": [
    "#Plot a graph between the predicted outputs and the true outputs for the training data\n",
    "plt.scatter(Y_train_pre,Y_train,c='magenta')\n",
    "plt.xlabel('Predicted values of train_Y')\n",
    "plt.ylabel('Actual values of train_Y')\n",
    "plt.show()"
   ]
  },
  {
   "cell_type": "code",
   "execution_count": 33,
   "id": "02c38d42",
   "metadata": {},
   "outputs": [
    {
     "data": {
      "image/png": "[encoded data removed]",
      "text/plain": [
       "<Figure size 640x480 with 1 Axes>"
      ]
     },
     "metadata": {},
     "output_type": "display_data"
    }
   ],
   "source": [
    "#Plot a graph between the predicted outputs and the true outputs for the testing data\n",
    "plt.scatter(Y_test_pre,Y_test,c='red')\n",
    "plt.xlabel('Predicted values of test_Y')\n",
    "plt.ylabel('Actual values of test_Y')\n",
    "plt.show()"
   ]
  },
  {
   "cell_type": "code",
   "execution_count": null,
   "id": "d8e7f38e",
   "metadata": {},
   "outputs": [],
   "source": []
  }
 ],
 "metadata": {
  "kernelspec": {
   "display_name": "Python 3 (ipykernel)",
   "language": "python",
   "name": "python3"
  },
  "language_info": {
   "codemirror_mode": {
    "name": "ipython",
    "version": 3
   },
   "file_extension": ".py",
   "mimetype": "text/x-python",
   "name": "python",
   "nbconvert_exporter": "python",
   "pygments_lexer": "ipython3",
   "version": "3.9.13"
  }
 },
 "nbformat": 4,
 "nbformat_minor": 5
}
